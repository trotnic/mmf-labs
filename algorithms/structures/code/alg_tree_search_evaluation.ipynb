{
 "metadata": {
  "language_info": {
   "codemirror_mode": {
    "name": "ipython",
    "version": 3
   },
   "file_extension": ".py",
   "mimetype": "text/x-python",
   "name": "python",
   "nbconvert_exporter": "python",
   "pygments_lexer": "ipython3",
   "version": "3.8.2-final"
  },
  "orig_nbformat": 2,
  "kernelspec": {
   "name": "python3",
   "display_name": "Python 3"
  }
 },
 "nbformat": 4,
 "nbformat_minor": 2,
 "cells": [
  {
   "cell_type": "code",
   "execution_count": 8,
   "metadata": {},
   "outputs": [],
   "source": [
    "# ИССЛЕДОВАНИЕ И ОЦЕНКА АЛГОРИТМОВ ПОИСКА НА ДЕРЕВЬЯХ\n",
    "# Цель работы:\n",
    "#       Разработка программ, реализующих алгоритмы формирования и \n",
    "#       обхода двоичных и В+ деревьев, а также поиска элементов в них, \n",
    "#       и оценка их временной и пространственной сложности."
   ]
  },
  {
   "cell_type": "code",
   "execution_count": 13,
   "metadata": {},
   "outputs": [],
   "source": [
    "import numpy as np\n",
    "import time as t\n",
    "from random import randint\n",
    "from random import seed\n",
    "import plotly.express as px\n",
    "import re"
   ]
  },
  {
   "cell_type": "code",
   "execution_count": 36,
   "metadata": {},
   "outputs": [],
   "source": [
    "class Node:\n",
    "    def __init__(self, value):\n",
    "        self.left = None\n",
    "        self.right = None\n",
    "        self.value = value  "
   ]
  },
  {
   "cell_type": "code",
   "execution_count": 37,
   "metadata": {},
   "outputs": [],
   "source": [
    "class Binary_Tree:\n",
    "    def __init__(self, value):\n",
    "        self.root = Node(value)\n",
    "\n",
    "    def insert_value(self, value):\n",
    "        self.__insert_value(self.root, value)\n",
    "    \n",
    "    def preorder_traversal(self):\n",
    "        self.__pref_traversal(self.root)\n",
    "\n",
    "    def inorder_traversal(self):\n",
    "        self.__inorder_traversal(self.root)\n",
    "\n",
    "    def postorder_traversal(self):\n",
    "        self.__postorder_traversal(self.root)\n",
    "\n",
    "    def __postorder_traversal(self, node: Node):\n",
    "        if node:\n",
    "            self.__postorder_traversal(node.left)\n",
    "            self.__postorder_traversal(node.right)\n",
    "            print(node.value)\n",
    "\n",
    "    def __inorder_traversal(self, node: Node):\n",
    "        if node:\n",
    "            self.__inorder_traversal(node.left)\n",
    "            print(node.value)\n",
    "            self.__inorder_traversal(node.right)\n",
    "\n",
    "    def __preorder_traversal(self, node: Node):\n",
    "        if node:\n",
    "            print(node.value)\n",
    "            self.__preorder_traversal(node.left)\n",
    "            self.__preorder_traversal(node.right)\n",
    "\n",
    "    def __insert_value(self, node: Node, value):\n",
    "        if value < node.value:\n",
    "            if node.left:\n",
    "                self.__insert_value(node.left, value)\n",
    "            else:\n",
    "                node.left = Node(value)\n",
    "        else:\n",
    "            if node.right:\n",
    "                self.__insert_value(node.right, value)\n",
    "            else:\n",
    "                node.right = Node(value)\n",
    "        "
   ]
  },
  {
   "cell_type": "code",
   "execution_count": 38,
   "metadata": {},
   "outputs": [
    {
     "output_type": "stream",
     "name": "stdout",
     "text": [
      "3\n18\n48\n15\n96\n101\n96\n112\n111\n103\n136\n130\n128\n125\n103\n52\n"
     ]
    }
   ],
   "source": [
    "values = [randint(0, 150) for i in range(16)]\n",
    "tree = Tree(values[0])\n",
    "for i in range(1,len(values)):\n",
    "    tree.insert_value(values[i])\n",
    "\n",
    "tree.postorder_traversal()"
   ]
  },
  {
   "cell_type": "code",
   "execution_count": null,
   "metadata": {},
   "outputs": [],
   "source": []
  }
 ]
}