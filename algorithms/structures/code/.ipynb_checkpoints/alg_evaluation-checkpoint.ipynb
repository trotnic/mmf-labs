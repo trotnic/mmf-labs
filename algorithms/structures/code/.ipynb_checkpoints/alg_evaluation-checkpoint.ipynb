{
 "cells": [
  {
   "cell_type": "code",
   "execution_count": 1,
   "metadata": {},
   "outputs": [],
   "source": [
    "import numpy as np\n",
    "import time as t"
   ]
  },
  {
   "cell_type": "code",
   "execution_count": 4,
   "metadata": {},
   "outputs": [
    {
     "name": "stdout",
     "output_type": "stream",
     "text": [
      "([-9, -7, -5, -3, -1, 1, 3, 5, 7, 9], [-10, -8, -6, -4, -2, 0, 2, 4, 6, 8])\n"
     ]
    }
   ],
   "source": [
    "def your_personal_knife(nums: list) -> tuple:\n",
    "    odds, evens = [], []\n",
    "    for element in nums:\n",
    "        if element % 2 == 0:\n",
    "            evens.append(element)\n",
    "        else:\n",
    "            odds.append(element)\n",
    "    return (odds, evens)\n",
    "\n",
    "array = [i for i in range(-10,10)]\n",
    "\n",
    "print(your_personal_knife(array))"
   ]
  },
  {
   "cell_type": "code",
   "execution_count": null,
   "metadata": {},
   "outputs": [],
   "source": []
  }
 ],
 "metadata": {
  "kernelspec": {
   "display_name": "Python 3",
   "language": "python",
   "name": "python3"
  },
  "language_info": {
   "codemirror_mode": {
    "name": "ipython",
    "version": 3
   },
   "file_extension": ".py",
   "mimetype": "text/x-python",
   "name": "python",
   "nbconvert_exporter": "python",
   "pygments_lexer": "ipython3",
   "version": "3.8.2"
  }
 },
 "nbformat": 4,
 "nbformat_minor": 4
}
