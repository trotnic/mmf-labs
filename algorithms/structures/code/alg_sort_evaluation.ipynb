{
 "metadata": {
  "language_info": {
   "codemirror_mode": {
    "name": "ipython",
    "version": 3
   },
   "file_extension": ".py",
   "mimetype": "text/x-python",
   "name": "python",
   "nbconvert_exporter": "python",
   "pygments_lexer": "ipython3",
   "version": "3.8.2-final"
  },
  "orig_nbformat": 2,
  "kernelspec": {
   "name": "python3",
   "display_name": "Python 3"
  }
 },
 "nbformat": 4,
 "nbformat_minor": 2,
 "cells": [
  {
   "cell_type": "code",
   "execution_count": 2,
   "metadata": {},
   "outputs": [],
   "source": [
    "# ИССЛЕДОВАНИЕ И ОЦЕНКА АЛГОРИТМОВ СОРТИРОВКИ\n",
    "# Цель работы:\n",
    "#       Разработка программ, реализующих различные алгоритмы \n",
    "#       сортировки, и оценка их временной и пространственной сложности."
   ]
  },
  {
   "source": [
    "import numpy as np\n",
    "import time as t\n",
    "from random import randint\n",
    "from random import seed\n",
    "import plotly.express as px\n",
    "import re"
   ],
   "cell_type": "code",
   "metadata": {},
   "execution_count": 1,
   "outputs": []
  },
  {
   "cell_type": "code",
   "execution_count": 70,
   "metadata": {},
   "outputs": [],
   "source": [
    "def bubbled(array: list) -> list:\n",
    "    sus = array.copy()\n",
    "    n = len(sus)\n",
    "    for k in range(n - 1):\n",
    "        for i in range(n - k - 1):\n",
    "            if sus[i] > sus[i+1]:\n",
    "                sus[i], sus[i+1] = sus[i+1], sus[i]\n",
    "    return sus"
   ]
  },
  {
   "cell_type": "code",
   "execution_count": 71,
   "metadata": {},
   "outputs": [],
   "source": [
    "def inserted(array: list) -> list:\n",
    "    sus = array.copy()\n",
    "    n = len(sus)\n",
    "    for i in range(1,n):\n",
    "        key = sus[i]\n",
    "        j = i - 1\n",
    "        while j >= 0 and key < sus[j]:\n",
    "            sus[j+1]=sus[j]\n",
    "            j-=1\n",
    "        sus[j+1]=key\n",
    "\n",
    "    return sus"
   ]
  },
  {
   "cell_type": "code",
   "execution_count": 74,
   "metadata": {},
   "outputs": [],
   "source": [
    "seed(t.time())\n",
    "array = [randint(-100,100) for _ in range(10000)]"
   ]
  },
  {
   "cell_type": "code",
   "execution_count": 75,
   "metadata": {},
   "outputs": [
    {
     "output_type": "stream",
     "name": "stdout",
     "text": [
      "bubble: 8.492538213729858\ninsert: 3.860297918319702\n"
     ]
    }
   ],
   "source": [
    "start_time = t.time()\n",
    "bubble = bubbled(array)\n",
    "finish_time = t.time()\n",
    "bubble_time = finish_time - start_time\n",
    "\n",
    "start_time = t.time()\n",
    "insert = inserted(array)\n",
    "finish_time = t.time()\n",
    "insert_time = finish_time - start_time\n",
    "\n",
    "print(f\"bubble: {bubble_time}\")\n",
    "print(f\"insert: {insert_time}\")"
   ]
  },
  {
   "cell_type": "code",
   "execution_count": null,
   "metadata": {},
   "outputs": [],
   "source": []
  }
 ]
}