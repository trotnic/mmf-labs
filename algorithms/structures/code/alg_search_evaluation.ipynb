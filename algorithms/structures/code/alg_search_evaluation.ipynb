{
 "metadata": {
  "language_info": {
   "codemirror_mode": {
    "name": "ipython",
    "version": 3
   },
   "file_extension": ".py",
   "mimetype": "text/x-python",
   "name": "python",
   "nbconvert_exporter": "python",
   "pygments_lexer": "ipython3",
   "version": "3.8.2-final"
  },
  "orig_nbformat": 2,
  "kernelspec": {
   "name": "python3",
   "display_name": "Python 3"
  }
 },
 "nbformat": 4,
 "nbformat_minor": 2,
 "cells": [
  {
   "cell_type": "code",
   "execution_count": 1,
   "metadata": {},
   "outputs": [],
   "source": [
    "# ИССЛЕДОВАНИЕ И ОЦЕНКА АЛГОРИТМОВ ПОИСКА\n",
    "# Цель работы:\n",
    "#       Разработка программ, реализующих различные \n",
    "#       алгоритмы поиска, и оценка их временной и пространственной сложности."
   ]
  },
  {
   "cell_type": "code",
   "execution_count": 13,
   "metadata": {},
   "outputs": [],
   "source": [
    "import numpy as np\n",
    "import time as t\n",
    "from random import randint\n",
    "import plotly.express as px\n",
    "import re"
   ]
  },
  {
   "cell_type": "code",
   "execution_count": 24,
   "metadata": {},
   "outputs": [],
   "source": [
    "SUS = \"Lorem ipsum dolor sit amet, consectetur adipiscing elit, sed do eiusmod tempor incididunt ut labore et dolore magna aliqua. Tortor posuere ac ut consequat semper.\""
   ]
  },
  {
   "cell_type": "code",
   "execution_count": 1,
   "metadata": {},
   "outputs": [],
   "source": [
    "def accelerated_search(sus: str, term: str):\n",
    "    searchable = re.split('[\\W\\s]+', sus)\n",
    "    n = len(searchable)\n",
    "    # 1\n",
    "    start_time = t.time()\n",
    "    if term:\n",
    "        # 1 + 1\n",
    "        num = -1\n",
    "        i = 0\n",
    "\n",
    "        # n * (1 + 1)\n",
    "        while num == -1 and i < n:\n",
    "            # 2 + 1\n",
    "            if searchable[i] == term:\n",
    "                # 1\n",
    "                num = i\n",
    "            # 2\n",
    "            i += 1\n",
    "    # 3 + n*(2 + 6) = 8n+3\n",
    "        if num == -1:\n",
    "            print(\"Такого ключа в массиве нет\")\n",
    "        else:\n",
    "            print(f\"Ключ {num} найден\")\n",
    "    finish_time = t.time()\n",
    "\n",
    "    return finish_time - start_time"
   ]
  },
  {
   "cell_type": "code",
   "execution_count": 2,
   "metadata": {},
   "outputs": [
    {
     "output_type": "error",
     "ename": "NameError",
     "evalue": "name 'SUS' is not defined",
     "traceback": [
      "\u001b[0;31m---------------------------------------------------------------------------\u001b[0m",
      "\u001b[0;31mNameError\u001b[0m                                 Traceback (most recent call last)",
      "\u001b[0;32m<ipython-input-2-172704f2e8bb>\u001b[0m in \u001b[0;36m<module>\u001b[0;34m\u001b[0m\n\u001b[0;32m----> 1\u001b[0;31m \u001b[0mtime\u001b[0m \u001b[0;34m=\u001b[0m \u001b[0maccelerated_search\u001b[0m\u001b[0;34m(\u001b[0m\u001b[0mSUS\u001b[0m\u001b[0;34m,\u001b[0m \u001b[0;34m\"sit\"\u001b[0m\u001b[0;34m)\u001b[0m\u001b[0;34m\u001b[0m\u001b[0;34m\u001b[0m\u001b[0m\n\u001b[0m\u001b[1;32m      2\u001b[0m \u001b[0mprint\u001b[0m\u001b[0;34m(\u001b[0m\u001b[0;34m\"Сложность алгоритма составляет O(n) ~ O(8n+3)\"\u001b[0m\u001b[0;34m)\u001b[0m\u001b[0;34m\u001b[0m\u001b[0;34m\u001b[0m\u001b[0m\n\u001b[1;32m      3\u001b[0m \u001b[0mprint\u001b[0m\u001b[0;34m(\u001b[0m\u001b[0;34m\"Ёмкостная сложность: O(n)\"\u001b[0m\u001b[0;34m)\u001b[0m\u001b[0;34m\u001b[0m\u001b[0;34m\u001b[0m\u001b[0m\n\u001b[1;32m      4\u001b[0m \u001b[0mprint\u001b[0m\u001b[0;34m(\u001b[0m\u001b[0;34mf\"Время выполнения алгоритма: {time} секунд\"\u001b[0m\u001b[0;34m)\u001b[0m\u001b[0;34m\u001b[0m\u001b[0;34m\u001b[0m\u001b[0m\n",
      "\u001b[0;31mNameError\u001b[0m: name 'SUS' is not defined"
     ]
    }
   ],
   "source": [
    "time = accelerated_search(SUS, \"sit\")\n",
    "print(\"Сложность алгоритма составляет O(n) ~ O(8n+3)\")\n",
    "print(\"Ёмкостная сложность: O(n)\")\n",
    "print(f\"Время выполнения алгоритма: {time} секунд\")"
   ]
  },
  {
   "cell_type": "code",
   "execution_count": null,
   "metadata": {},
   "outputs": [],
   "source": []
  }
 ]
}